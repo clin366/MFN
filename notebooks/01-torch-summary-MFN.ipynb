{
 "cells": [
  {
   "cell_type": "code",
   "execution_count": 1,
   "metadata": {},
   "outputs": [],
   "source": [
    "import torch\n",
    "import torch.nn as nn\n",
    "import torch.nn.functional as F"
   ]
  },
  {
   "cell_type": "code",
   "execution_count": 3,
   "metadata": {},
   "outputs": [],
   "source": [
    "from torchsummary import summary"
   ]
  },
  {
   "cell_type": "code",
   "execution_count": 4,
   "metadata": {},
   "outputs": [],
   "source": [
    "class EFLSTM(nn.Module):\n",
    "\tdef __init__(self, d, h, output_dim, dropout): #, n_layers, bidirectional, dropout):\n",
    "\t\tsuper(EFLSTM, self).__init__()\n",
    "\t\tself.h = h\n",
    "\t\tself.lstm = nn.LSTMCell(d, h)\n",
    "\t\tself.fc1 = nn.Linear(h, h)\n",
    "\t\tself.fc2 = nn.Linear(h, output_dim)\n",
    "\t\tself.dropout = nn.Dropout(dropout)\n",
    "\n",
    "\tdef forward(self, x):\n",
    "\t\t# x is t x n x d\n",
    "\t\tt = x.shape[0]\n",
    "\t\tn = x.shape[1]\n",
    "\t\tself.hx = torch.zeros(n, self.h)\n",
    "\t\tself.cx = torch.zeros(n, self.h)\n",
    "\t\tall_hs = []\n",
    "\t\tall_cs = []\n",
    "\t\tfor i in range(t):\n",
    "\t\t\tself.hx, self.cx = self.lstm(x[i], (self.hx, self.cx))\n",
    "\t\t\tall_hs.append(self.hx)\n",
    "\t\t\tall_cs.append(self.cx)\n",
    "\t\t# last hidden layer last_hs is n x h\n",
    "\t\tlast_hs = all_hs[-1]\n",
    "\t\toutput = F.relu(self.fc1(last_hs))\n",
    "\t\toutput = self.dropout(output)\n",
    "\t\toutput = self.fc2(output)\n",
    "\t\treturn output"
   ]
  },
  {
   "cell_type": "code",
   "execution_count": 5,
   "metadata": {},
   "outputs": [],
   "source": [
    "device = torch.device(\"cuda\" if torch.cuda.is_available() else \"cpu\") # PyTorch v0.4.0"
   ]
  },
  {
   "cell_type": "code",
   "execution_count": null,
   "metadata": {},
   "outputs": [],
   "source": [
    "\td = X_train.shape[2]\n",
    "\th = config[\"h\"]\n",
    "\tt = X_train.shape[0]\n",
    "\toutput_dim = 1\n",
    "\tdropout = config[\"drop\"]\n",
    "\n",
    "\tmodel = EFLSTM(d,h,output_dim,dropout)"
   ]
  },
  {
   "cell_type": "code",
   "execution_count": 7,
   "metadata": {},
   "outputs": [
    {
     "ename": "TypeError",
     "evalue": "__init__() takes exactly 5 arguments (1 given)",
     "output_type": "error",
     "traceback": [
      "\u001b[0;31m---------------------------------------------------------------------------\u001b[0m",
      "\u001b[0;31mTypeError\u001b[0m                                 Traceback (most recent call last)",
      "\u001b[0;32m<ipython-input-7-57ba90ddf6cc>\u001b[0m in \u001b[0;36m<module>\u001b[0;34m()\u001b[0m\n\u001b[0;32m----> 1\u001b[0;31m \u001b[0mmodel\u001b[0m \u001b[0;34m=\u001b[0m \u001b[0mEFLSTM\u001b[0m\u001b[0;34m(\u001b[0m\u001b[0;34m)\u001b[0m\u001b[0;34m.\u001b[0m\u001b[0mto\u001b[0m\u001b[0;34m(\u001b[0m\u001b[0mdevice\u001b[0m\u001b[0;34m)\u001b[0m\u001b[0;34m\u001b[0m\u001b[0m\n\u001b[0m",
      "\u001b[0;31mTypeError\u001b[0m: __init__() takes exactly 5 arguments (1 given)"
     ]
    }
   ],
   "source": [
    "model = EFLSTM().to(device)"
   ]
  },
  {
   "cell_type": "code",
   "execution_count": null,
   "metadata": {},
   "outputs": [],
   "source": []
  },
  {
   "cell_type": "code",
   "execution_count": null,
   "metadata": {},
   "outputs": [],
   "source": []
  }
 ],
 "metadata": {
  "kernelspec": {
   "display_name": "Python [conda env:py2]",
   "language": "python",
   "name": "conda-env-py2-py"
  },
  "language_info": {
   "codemirror_mode": {
    "name": "ipython",
    "version": 2
   },
   "file_extension": ".py",
   "mimetype": "text/x-python",
   "name": "python",
   "nbconvert_exporter": "python",
   "pygments_lexer": "ipython2",
   "version": "2.7.17"
  }
 },
 "nbformat": 4,
 "nbformat_minor": 2
}
